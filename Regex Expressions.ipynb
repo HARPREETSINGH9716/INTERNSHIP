{
 "cells": [
  {
   "cell_type": "markdown",
   "id": "a9b304ec",
   "metadata": {},
   "source": [
    "# REGEX ASSIGNMENT \n",
    "\n",
    "SUBMITTED BY\n",
    "            HARPREET SINGH ( INTERN )     \n",
    "            INTERNSHIP NUMBER :-DS2309\n",
    "            "
   ]
  },
  {
   "cell_type": "code",
   "execution_count": 2,
   "id": "b09dbf8e",
   "metadata": {},
   "outputs": [],
   "source": [
    "#Question 1- Write a Python program to replace all occurrences of a space, comma, or dot with a colon."
   ]
  },
  {
   "cell_type": "code",
   "execution_count": 27,
   "id": "83b1d92d",
   "metadata": {},
   "outputs": [
    {
     "name": "stdout",
     "output_type": "stream",
     "text": [
      "Python:Exercises::PHP:exercises:\n"
     ]
    }
   ],
   "source": [
    "def replace_chars(input_text):\n",
    "    chars_to_replace = [' ', ',', '.']\n",
    "    \n",
    "    # Replace each character with a colon\n",
    "    for char in chars_to_replace:\n",
    "        input_text = input_text.replace(char, ':')\n",
    "    \n",
    "    return input_text\n",
    "sample_text = 'Python Exercises, PHP exercises.'\n",
    "\n",
    "result = replace_chars(sample_text)\n",
    "\n",
    "print(result)\n"
   ]
  },
  {
   "cell_type": "code",
   "execution_count": 3,
   "id": "f3790fb8",
   "metadata": {},
   "outputs": [],
   "source": [
    "#Question 2-  Write a Python program to find all words starting with 'a' or 'e' in a given string."
   ]
  },
  {
   "cell_type": "code",
   "execution_count": 28,
   "id": "daed518e",
   "metadata": {},
   "outputs": [
    {
     "name": "stdout",
     "output_type": "stream",
     "text": [
      "['Apple', 'Elephant', 'Everyone']\n"
     ]
    }
   ],
   "source": [
    "def find_words(string):\n",
    "    words=string.split()\n",
    "    result=[word for word in words if word.startswith(('A','E'))]\n",
    "    \n",
    "    return result\n",
    "\n",
    "text= \"Apple and Elephant are animals. Everyone loves them!\"\n",
    "result=find_words(text)\n",
    "\n",
    "print(result)"
   ]
  },
  {
   "cell_type": "code",
   "execution_count": 11,
   "id": "738b6c4d",
   "metadata": {},
   "outputs": [],
   "source": [
    "#Question 3- Create a function in python to find all words that are at least 4 characters long in a string. The use of the re.compile() method is mandatory."
   ]
  },
  {
   "cell_type": "code",
   "execution_count": 29,
   "id": "894fb661",
   "metadata": {},
   "outputs": [
    {
     "name": "stdout",
     "output_type": "stream",
     "text": [
      "['this', 'sample', 'string', 'with', 'words', 'various', 'lengths']\n"
     ]
    }
   ],
   "source": [
    "import re \n",
    "def find_long_words(string):\n",
    "    pattern=re.compile(r'\\b\\w{4,}\\b')\n",
    "    result=pattern.findall(string)\n",
    "    return result\n",
    "text= \"this is sample string with words of various lengths.\"\n",
    "result=find_long_words(text)\n",
    "\n",
    "print(result)"
   ]
  },
  {
   "cell_type": "code",
   "execution_count": null,
   "id": "aeff911e",
   "metadata": {},
   "outputs": [],
   "source": [
    "#Question 4- Create a function in python to find all three, four, and five character words in a string. The use of the re.compile() method is mandatory."
   ]
  },
  {
   "cell_type": "code",
   "execution_count": 20,
   "id": "71e6ef12",
   "metadata": {},
   "outputs": [
    {
     "name": "stdout",
     "output_type": "stream",
     "text": [
      "['india', 'and', 'feel', 'proud', 'say', 'that']\n"
     ]
    }
   ],
   "source": [
    "import re\n",
    "\n",
    "def find_words(string):\n",
    "    # Define the regular expression pattern\n",
    "    pattern = re.compile(r'\\b\\w{3,5}\\b')\n",
    "\n",
    "    matches = pattern.findall(string)\n",
    "\n",
    "    return matches\n",
    "input_string = \"india is a beautiful country and i feel proud to say that i am indian.\"\n",
    "result = find_words(input_string)\n",
    "\n",
    "print(result)\n"
   ]
  },
  {
   "cell_type": "code",
   "execution_count": 23,
   "id": "080dcd67",
   "metadata": {},
   "outputs": [],
   "source": [
    "#Question 5- Create a function in Python to remove the parenthesis in a list of strings. The use of the re.compile() method is mandatory.\n",
    "#Sample Text: [\"example (.com)\", \"hr@fliprobo (.com)\", \"github (.com)\", \"Hello (Data Science World)\", \"Data (Scientist)\"]\n"
   ]
  },
  {
   "cell_type": "code",
   "execution_count": 5,
   "id": "184875c3",
   "metadata": {},
   "outputs": [
    {
     "name": "stdout",
     "output_type": "stream",
     "text": [
      "['example ', 'hr@fliprobo ', 'github ', 'Hello ', 'Data ']\n"
     ]
    }
   ],
   "source": [
    "import re\n",
    "\n",
    "def remove_parentheses(strings):\n",
    "    # Define the regular expression pattern for matching parentheses\n",
    "    pattern = re.compile(r'\\([^)]*\\)')\n",
    "\n",
    "    result = [pattern.sub('', s) for s in strings]\n",
    "\n",
    "    return result\n",
    "\n",
    "\n",
    "sample_text = [\"example (.com)\", \"hr@fliprobo (.com)\", \"github (.com)\", \"Hello (Data Science World)\", \"Data (Scientist)\"]\n",
    "\n",
    "result = remove_parentheses(sample_text)\n",
    "\n",
    "print(result)\n"
   ]
  },
  {
   "cell_type": "code",
   "execution_count": 25,
   "id": "2a6cb436",
   "metadata": {},
   "outputs": [],
   "source": [
    "#Question 6- Write a python program to remove the parenthesis area from the text stored in the text file using Regular Expression.\n",
    "#Sample Text: [\"example (.com)\", \"hr@fliprobo (.com)\", \"github (.com)\", \"Hello (Data Science World)\", \"Data (Scientist)\"]\n"
   ]
  },
  {
   "cell_type": "code",
   "execution_count": 6,
   "id": "683ca4d7",
   "metadata": {},
   "outputs": [
    {
     "name": "stdout",
     "output_type": "stream",
     "text": [
      "[\"example \", \"hr@fliprobo \", \"github \", \"Hello \", \"Data \"]\n"
     ]
    }
   ],
   "source": [
    "import re\n",
    "\n",
    "def remove_parentheses_from_file(input_file, output_file):\n",
    "    with open(input_file, 'r') as file:\n",
    "        content = file.read()\n",
    "\n",
    "    # Define the regular expression pattern for matching parentheses\n",
    "    pattern = re.compile(r'\\([^)]*\\)')\n",
    "\n",
    "    modified_content = pattern.sub('', content)\n",
    "    with open(output_file, 'w') as file:\n",
    "        file.write(modified_content)\n",
    "\n",
    "input_file_path = 'input.txt'\n",
    "output_file_path = 'output.txt'\n",
    "\n",
    "sample_text = '[\"example (.com)\", \"hr@fliprobo (.com)\", \"github (.com)\", \"Hello (Data Science World)\", \"Data (Scientist)\"]'\n",
    "\n",
    "with open(input_file_path, 'w') as file:\n",
    "    file.write(sample_text)\n",
    "    \n",
    "remove_parentheses_from_file(input_file_path, output_file_path)\n",
    "\n",
    "with open(output_file_path, 'r') as file:\n",
    "    result = file.read()\n",
    "    print(result)\n"
   ]
  },
  {
   "cell_type": "code",
   "execution_count": 32,
   "id": "454549ce",
   "metadata": {},
   "outputs": [],
   "source": [
    "#Question 7- Write a regular expression in Python to split a string into uppercase letters.\n",
    "#Sample text: “ImportanceOfRegularExpressionsInPython”\n",
    "#Expected Output: [‘Importance’, ‘Of’, ‘Regular’, ‘Expression’, ‘In’, ‘Python’]"
   ]
  },
  {
   "cell_type": "code",
   "execution_count": 30,
   "id": "ac66a9d2",
   "metadata": {},
   "outputs": [
    {
     "name": "stdout",
     "output_type": "stream",
     "text": [
      "['Importance', 'Of', 'Regular', 'Expressions', 'In', 'Python']\n"
     ]
    }
   ],
   "source": [
    "import re\n",
    "\n",
    "sample_text = \"ImportanceOfRegularExpressionsInPython\"\n",
    "\n",
    "# Define the regular expression pattern for splitting at uppercase letters\n",
    "pattern = re.compile(r'(?=[A-Z])')\n",
    "\n",
    "# Use split to split the string based on uppercase letters\n",
    "result = pattern.split(sample_text)\n",
    "\n",
    "result = [word for word in result if word]\n",
    "\n",
    "print(result)\n"
   ]
  },
  {
   "cell_type": "code",
   "execution_count": 34,
   "id": "12394c09",
   "metadata": {},
   "outputs": [],
   "source": [
    "#Question 8- Create a function in python to insert spaces between words starting with numbers.\n",
    "#Sample Text: “RegularExpression1IsAn2ImportantTopic3InPython\"\n",
    "#Expected Output: RegularExpression 1IsAn 2ImportantTopic 3InPython\n"
   ]
  },
  {
   "cell_type": "code",
   "execution_count": 7,
   "id": "4df9e078",
   "metadata": {},
   "outputs": [
    {
     "name": "stdout",
     "output_type": "stream",
     "text": [
      "RegularExpression 1IsAn 2ImportantTopic 3InPython\n"
     ]
    }
   ],
   "source": [
    "import re\n",
    "\n",
    "def insert_spaces(text):\n",
    "    # Define the regular expression pattern for inserting spaces before words starting with numbers\n",
    "    pattern = re.compile(r'(?<=[a-zA-Z])(\\d)')\n",
    "\n",
    "    # Use sub to insert spaces before words starting with numbers\n",
    "    result = pattern.sub(r' \\1', text)\n",
    "\n",
    "    return result\n",
    "\n",
    "sample_text = \"RegularExpression1IsAn2ImportantTopic3InPython\"\n",
    "\n",
    "output = insert_spaces(sample_text)\n",
    "\n",
    "print(output)\n"
   ]
  },
  {
   "cell_type": "code",
   "execution_count": null,
   "id": "c16853f0",
   "metadata": {},
   "outputs": [],
   "source": [
    "#Question 9- Create a function in python to insert spaces between words starting with capital letters or with numbers.\n",
    "#Sample Text: “RegularExpression1IsAn2ImportantTopic3InPython\"\n"
   ]
  },
  {
   "cell_type": "code",
   "execution_count": 8,
   "id": "b4dd5545",
   "metadata": {},
   "outputs": [
    {
     "name": "stdout",
     "output_type": "stream",
     "text": [
      "Regular Expression 1 Is An 2 Important Topic 3 In Python\n"
     ]
    }
   ],
   "source": [
    "import re\n",
    "\n",
    "def insert_spaces(text):\n",
    "    # Define the regular expression pattern for inserting spaces before words starting with capital letters or numbers\n",
    "    pattern = re.compile(r'(?<=[a-zA-Z0-9])([A-Z0-9])')\n",
    "\n",
    "\n",
    "    result = pattern.sub(r' \\1', text)\n",
    "\n",
    "    return result\n",
    "\n",
    "sample_text = \"RegularExpression1IsAn2ImportantTopic3InPython\"\n",
    "\n",
    "output = insert_spaces(sample_text)\n",
    "\n",
    "print(output)\n"
   ]
  },
  {
   "cell_type": "code",
   "execution_count": null,
   "id": "941f85b4",
   "metadata": {},
   "outputs": [],
   "source": [
    "#Question 10- Write a python program to extract email address from the text stored in the text file using Regular Expression."
   ]
  },
  {
   "cell_type": "code",
   "execution_count": 9,
   "id": "e8ad4366",
   "metadata": {},
   "outputs": [
    {
     "name": "stdout",
     "output_type": "stream",
     "text": [
      "['xyz@domain.com', 'xyz.abc@sdomain.domain.com', 'hr@fliprobo.com']\n"
     ]
    }
   ],
   "source": [
    "import re\n",
    "\n",
    "def extract_emails_from_file(file_path):\n",
    "    # Read the content of the file\n",
    "    with open(file_path, 'r') as file:\n",
    "        content = file.read()\n",
    "\n",
    "    # Define the regular expression pattern for matching email addresses\n",
    "    pattern = re.compile(r'\\b[A-Za-z0-9._%+-]+@[A-Za-z0-9.-]+\\.[A-Z|a-z]{2,}\\b')\n",
    "\n",
    "\n",
    "    emails = pattern.findall(content)\n",
    "\n",
    "    return emails\n",
    "\n",
    "file_path = 'sample_text.txt'\n",
    "\n",
    "with open(file_path, 'w') as file:\n",
    "    file.write(\"Hello my name is Data Science and my email address is xyz@domain.com and alternate email address is xyz.abc@sdomain.domain.com. Please contact us at hr@fliprobo.com for further information.\")\n",
    "\n",
    "result = extract_emails_from_file(file_path)\n",
    "\n",
    "\n",
    "print(result)\n"
   ]
  },
  {
   "cell_type": "code",
   "execution_count": null,
   "id": "73e985e6",
   "metadata": {},
   "outputs": [],
   "source": [
    "#Question 11- Write a Python program to match a string that contains only upper and lowercase letters, numbers, and underscores."
   ]
  },
  {
   "cell_type": "code",
   "execution_count": 10,
   "id": "5e07d1cd",
   "metadata": {},
   "outputs": [
    {
     "name": "stdout",
     "output_type": "stream",
     "text": [
      "Is \"Valid_String_123\" a valid string? True\n",
      "Is \"Invalid_String@456\" a valid string? False\n"
     ]
    }
   ],
   "source": [
    "import re\n",
    "\n",
    "def is_valid_string(s):\n",
    "    # Define the regular expression pattern\n",
    "    pattern = re.compile(r'^[a-zA-Z0-9_]+$')\n",
    "\n",
    "    \n",
    "    match = pattern.match(s)\n",
    "\n",
    "    \n",
    "    return bool(match)\n",
    "\n",
    "\n",
    "sample_string1 = \"Valid_String_123\"\n",
    "sample_string2 = \"Invalid_String@456\"\n",
    "\n",
    "result1 = is_valid_string(sample_string1)\n",
    "result2 = is_valid_string(sample_string2)\n",
    "\n",
    "\n",
    "print(f'Is \"{sample_string1}\" a valid string? {result1}')\n",
    "print(f'Is \"{sample_string2}\" a valid string? {result2}')\n"
   ]
  },
  {
   "cell_type": "code",
   "execution_count": null,
   "id": "669e1a0e",
   "metadata": {},
   "outputs": [],
   "source": [
    "#Question 12- Write a Python program where a string will start with a specific number. \n"
   ]
  },
  {
   "cell_type": "code",
   "execution_count": 11,
   "id": "2ac178d5",
   "metadata": {},
   "outputs": [
    {
     "name": "stdout",
     "output_type": "stream",
     "text": [
      "Does the string start with 123? True\n"
     ]
    }
   ],
   "source": [
    "def starts_with_number(s, number):\n",
    "    # Convert the number to a string for comparison\n",
    "    number_str = str(number)\n",
    "\n",
    "    # Check if the string starts with the specified number\n",
    "    return s.startswith(number_str)\n",
    "\n",
    "\n",
    "sample_string = \"123ABC\"\n",
    "specific_number = 123\n",
    "\n",
    "result = starts_with_number(sample_string, specific_number)\n",
    "\n",
    "print(f'Does the string start with {specific_number}? {result}')\n"
   ]
  },
  {
   "cell_type": "code",
   "execution_count": null,
   "id": "4dc7f06a",
   "metadata": {},
   "outputs": [],
   "source": [
    "#Question 13- Write a Python program to remove leading zeros from an IP address"
   ]
  },
  {
   "cell_type": "code",
   "execution_count": 12,
   "id": "47a0aa46",
   "metadata": {},
   "outputs": [
    {
     "name": "stdout",
     "output_type": "stream",
     "text": [
      "Original IP: 192.001.002.003\n",
      "Formatted IP: 192.1.2.3\n"
     ]
    }
   ],
   "source": [
    "def remove_leading_zeros(ip_address_str):\n",
    "    # Split the IP address into octets\n",
    "    octets = ip_address_str.split('.')\n",
    "\n",
    "    # Remove leading zeros from each octet\n",
    "    formatted_octets = [str(int(octet)) for octet in octets]\n",
    "\n",
    "    \n",
    "    formatted_ip = '.'.join(formatted_octets)\n",
    "\n",
    "    return formatted_ip\n",
    "\n",
    "ip_address_with_zeros = \"192.001.002.003\"\n",
    "\n",
    "result = remove_leading_zeros(ip_address_with_zeros)\n",
    "\n",
    "print(f'Original IP: {ip_address_with_zeros}')\n",
    "print(f'Formatted IP: {result}')\n"
   ]
  },
  {
   "cell_type": "code",
   "execution_count": 44,
   "id": "be27845e",
   "metadata": {},
   "outputs": [],
   "source": [
    "#Question 14- Write a regular expression in python to match a date string in the form of Month name followed by day number and year stored in a text file.\n",
    "#Sample text :  ' On August 15th 1947 that India was declared independent from British colonialism, and the reins of control were handed over to the leaders of the Country’.\n"
   ]
  },
  {
   "cell_type": "code",
   "execution_count": 13,
   "id": "6f6ea6a9",
   "metadata": {},
   "outputs": [
    {
     "name": "stdout",
     "output_type": "stream",
     "text": [
      "['August 15th 1947']\n"
     ]
    }
   ],
   "source": [
    "import re\n",
    "\n",
    "def find_dates_in_text(file_path):\n",
    "    # Read the content of the file\n",
    "    with open(file_path, 'r') as file:\n",
    "        content = file.read()\n",
    "\n",
    "    # Define the regular expression pattern for matching date strings\n",
    "    pattern = re.compile(r'\\b(?:January|February|March|April|May|June|July|August|September|October|November|December)\\s+\\d{1,2}(?:th|st|nd|rd)?\\s+\\d{4}\\b')\n",
    "\n",
    "    \n",
    "    dates = pattern.findall(content)\n",
    "\n",
    "    return dates\n",
    "\n",
    "file_path = 'sample_text.txt'\n",
    "\n",
    "sample_text = 'On August 15th 1947 that India was declared independent from British colonialism, and the reins of control were handed over to the leaders of the Country.'\n",
    "with open(file_path, 'w') as file:\n",
    "    file.write(sample_text)\n",
    "\n",
    "result = find_dates_in_text(file_path)\n",
    "\n",
    "print(result)\n"
   ]
  },
  {
   "cell_type": "code",
   "execution_count": 47,
   "id": "29d6333c",
   "metadata": {},
   "outputs": [],
   "source": [
    "#Question 15- Write a Python program to search some literals strings in a string. "
   ]
  },
  {
   "cell_type": "code",
   "execution_count": 14,
   "id": "03cf64b4",
   "metadata": {},
   "outputs": [
    {
     "name": "stdout",
     "output_type": "stream",
     "text": [
      "Text: \"The quick brown fox jumps over the lazy dog.\"\n",
      "Found literals: ['fox', 'dog', 'quick']\n"
     ]
    }
   ],
   "source": [
    "def search_literals(text, literals):\n",
    "    found_literals = [literal for literal in literals if literal in text]\n",
    "    return found_literals\n",
    "\n",
    "\n",
    "sample_text = 'The quick brown fox jumps over the lazy dog.'\n",
    "\n",
    "search_list = ['fox', 'dog', 'cat', 'quick']\n",
    "\n",
    "found_literals = search_literals(sample_text, search_list)\n",
    "\n",
    "\n",
    "print(f'Text: \"{sample_text}\"')\n",
    "print(f'Found literals: {found_literals}')\n"
   ]
  },
  {
   "cell_type": "code",
   "execution_count": null,
   "id": "4a71338c",
   "metadata": {},
   "outputs": [],
   "source": [
    "#Question 16- Write a Python program to search a literals string in a string and also find the location within the original string where the pattern occurs\n",
    "#Sample text : 'The quick brown fox jumps over the lazy dog.'\n"
   ]
  },
  {
   "cell_type": "code",
   "execution_count": 15,
   "id": "4d17cf1c",
   "metadata": {},
   "outputs": [
    {
     "name": "stdout",
     "output_type": "stream",
     "text": [
      "Text: \"The quick brown fox jumps over the lazy dog.\"\n",
      "The literal \"fox\" is found at index 16.\n"
     ]
    }
   ],
   "source": [
    "def search_literal_and_location(text, search_literal):\n",
    "    found_location = text.find(search_literal)\n",
    "    return found_location\n",
    "\n",
    "\n",
    "sample_text = 'The quick brown fox jumps over the lazy dog.'\n",
    "\n",
    "\n",
    "search_literal = 'fox'\n",
    "\n",
    "location = search_literal_and_location(sample_text, search_literal)\n",
    "\n",
    "print(f'Text: \"{sample_text}\"')\n",
    "if location != -1:\n",
    "    print(f'The literal \"{search_literal}\" is found at index {location}.')\n",
    "else:\n",
    "    print(f'The literal \"{search_literal}\" is not found in the text.')\n"
   ]
  },
  {
   "cell_type": "code",
   "execution_count": null,
   "id": "d04361a0",
   "metadata": {},
   "outputs": [],
   "source": [
    "#Question 17- Write a Python program to find the substrings within a string.\n",
    "#Sample text : 'Python exercises, PHP exercises, C# exercises'\n",
    "#Pattern : 'exercises'.\n"
   ]
  },
  {
   "cell_type": "code",
   "execution_count": 16,
   "id": "38414ef0",
   "metadata": {},
   "outputs": [
    {
     "name": "stdout",
     "output_type": "stream",
     "text": [
      "Text: \"Python exercises, PHP exercises, C# exercises\"\n",
      "The substring \"exercises\" is found at indices: [7, 22, 36]\n"
     ]
    }
   ],
   "source": [
    "def find_substrings(text, pattern):\n",
    "    start_indices = []\n",
    "    start_index = text.find(pattern)\n",
    "\n",
    "    while start_index != -1:\n",
    "        start_indices.append(start_index)\n",
    "        start_index = text.find(pattern, start_index + 1)\n",
    "\n",
    "    return start_indices\n",
    "\n",
    "\n",
    "sample_text = 'Python exercises, PHP exercises, C# exercises'\n",
    "\n",
    "substring_pattern = 'exercises'\n",
    "\n",
    "indices = find_substrings(sample_text, substring_pattern)\n",
    "\n",
    "\n",
    "print(f'Text: \"{sample_text}\"')\n",
    "if indices:\n",
    "    print(f'The substring \"{substring_pattern}\" is found at indices: {indices}')\n",
    "else:\n",
    "    print(f'The substring \"{substring_pattern}\" is not found in the text.')\n"
   ]
  },
  {
   "cell_type": "code",
   "execution_count": 51,
   "id": "565c7788",
   "metadata": {},
   "outputs": [],
   "source": [
    "#Question 19- Write a Python program to convert a date of yyyy-mm-dd format to dd-mm-yyyy format."
   ]
  },
  {
   "cell_type": "code",
   "execution_count": 17,
   "id": "63d9d97f",
   "metadata": {},
   "outputs": [
    {
     "name": "stdout",
     "output_type": "stream",
     "text": [
      "Original date: 2001-06-23\n",
      "Formatted date: 23-06-2001\n"
     ]
    }
   ],
   "source": [
    "from datetime import datetime\n",
    "\n",
    "def convert_date_format(date_str):\n",
    "    \n",
    "    original_date = datetime.strptime(date_str, '%Y-%m-%d')\n",
    "\n",
    "    \n",
    "    formatted_date = original_date.strftime('%d-%m-%Y')\n",
    "\n",
    "    return formatted_date\n",
    "\n",
    "\n",
    "date_str = '2001-06-23'\n",
    "\n",
    "\n",
    "formatted_date = convert_date_format(date_str)\n",
    "\n",
    "print(f'Original date: {date_str}')\n",
    "print(f'Formatted date: {formatted_date}')\n"
   ]
  },
  {
   "cell_type": "code",
   "execution_count": 54,
   "id": "aa4189a6",
   "metadata": {},
   "outputs": [],
   "source": [
    "#Question 20- Create a function in python to find all decimal numbers with a precision of 1 or 2 in a string. The use of the re.compile() method is mandatory.\n",
    "#Sample Text: \"01.12 0132.123 2.31875 145.8 3.01 27.25 0.25\"\n"
   ]
  },
  {
   "cell_type": "code",
   "execution_count": 18,
   "id": "b9e21110",
   "metadata": {},
   "outputs": [
    {
     "name": "stdout",
     "output_type": "stream",
     "text": [
      "['01.12', '0132', '123', '2', '31875', '145.8', '3.01', '27.25', '0.25']\n"
     ]
    }
   ],
   "source": [
    "import re\n",
    "\n",
    "def find_decimal_numbers(text):\n",
    "    # Define the regular expression pattern for matching decimal numbers with precision of 1 or 2\n",
    "    pattern = re.compile(r'\\b\\d+\\.\\d{1,2}\\b|\\b\\d+\\b')\n",
    "\n",
    "\n",
    "    matches = pattern.findall(text)\n",
    "\n",
    "    return matches\n",
    "\n",
    "\n",
    "sample_text = \"01.12 0132.123 2.31875 145.8 3.01 27.25 0.25\"\n",
    "\n",
    "\n",
    "result = find_decimal_numbers(sample_text)\n",
    "\n",
    "\n",
    "print(result)\n"
   ]
  },
  {
   "cell_type": "code",
   "execution_count": null,
   "id": "1df49d0b",
   "metadata": {},
   "outputs": [],
   "source": [
    "#Question 21- Write a Python program to separate and print the numbers and their position of a given string."
   ]
  },
  {
   "cell_type": "code",
   "execution_count": 19,
   "id": "8ab320a4",
   "metadata": {},
   "outputs": [
    {
     "name": "stdout",
     "output_type": "stream",
     "text": [
      "Text: \"abc123def456gh789\"\n",
      "Numbers: ['1', '2', '3', '4', '5', '6', '7', '8', '9']\n",
      "Positions: [3, 4, 5, 9, 10, 11, 14, 15, 16]\n"
     ]
    }
   ],
   "source": [
    "def extract_numbers_with_positions(text):\n",
    "    numbers = []\n",
    "    positions = []\n",
    "\n",
    "    for index, char in enumerate(text):\n",
    "        if char.isdigit():\n",
    "            numbers.append(char)\n",
    "            positions.append(index)\n",
    "\n",
    "    return numbers, positions\n",
    "\n",
    "sample_text = \"abc123def456gh789\"\n",
    "\n",
    "numbers, positions = extract_numbers_with_positions(sample_text)\n",
    "\n",
    "print(f'Text: \"{sample_text}\"')\n",
    "print(f'Numbers: {numbers}')\n",
    "print(f'Positions: {positions}')\n"
   ]
  },
  {
   "cell_type": "code",
   "execution_count": 57,
   "id": "1c006dd1",
   "metadata": {},
   "outputs": [],
   "source": [
    "#Question 22- Write a regular expression in python program to extract maximum/largest numeric value from a string.\n",
    "#Sample Text:  'My marks in each semester are: 947, 896, 926, 524, 734, 950, 642'\n"
   ]
  },
  {
   "cell_type": "code",
   "execution_count": 20,
   "id": "e36d1650",
   "metadata": {},
   "outputs": [
    {
     "name": "stdout",
     "output_type": "stream",
     "text": [
      "Text: \"My marks in each semester are: 947, 896, 926, 524, 734, 950, 642\"\n",
      "Maximum Numeric Value: 950\n"
     ]
    }
   ],
   "source": [
    "import re\n",
    "\n",
    "def extract_max_numeric_value(text):\n",
    "    # Define the regular expression pattern for matching numeric values\n",
    "    pattern = re.compile(r'\\b\\d+\\b')\n",
    "\n",
    "    \n",
    "    numeric_values = [int(match) for match in pattern.findall(text)]\n",
    "    max_value = max(numeric_values)\n",
    "\n",
    "    return max_value\n",
    "\n",
    "\n",
    "sample_text = 'My marks in each semester are: 947, 896, 926, 524, 734, 950, 642'\n",
    "result = extract_max_numeric_value(sample_text)\n",
    "\n",
    "print(f'Text: \"{sample_text}\"')\n",
    "print(f'Maximum Numeric Value: {result}')\n"
   ]
  },
  {
   "cell_type": "code",
   "execution_count": 59,
   "id": "596f15d9",
   "metadata": {},
   "outputs": [],
   "source": [
    "#Question 23- Create a function in python to insert spaces between words starting with capital letters.\n",
    "#Sample Text: “RegularExpressionIsAnImportantTopicInPython\"\n"
   ]
  },
  {
   "cell_type": "code",
   "execution_count": 21,
   "id": "b6d2babe",
   "metadata": {},
   "outputs": [
    {
     "name": "stdout",
     "output_type": "stream",
     "text": [
      "Regular Expression Is An Important Topic In Python\n"
     ]
    }
   ],
   "source": [
    "import re\n",
    "\n",
    "def insert_spaces_between_capital_words(text):\n",
    "    # Define the regular expression pattern for words starting with capital letters\n",
    "    pattern = re.compile(r'(?<=[a-z])([A-Z])')\n",
    "\n",
    "    # Use sub to insert spaces before words starting with capital letters\n",
    "    result = pattern.sub(r' \\1', text)\n",
    "\n",
    "    return result\n",
    "\n",
    "# Sample text\n",
    "sample_text = \"RegularExpressionIsAnImportantTopicInPython\"\n",
    "\n",
    "# Apply the function to insert spaces\n",
    "result = insert_spaces_between_capital_words(sample_text)\n",
    "\n",
    "\n",
    "print(result)\n"
   ]
  },
  {
   "cell_type": "code",
   "execution_count": 61,
   "id": "4836d150",
   "metadata": {},
   "outputs": [],
   "source": [
    "#Question 24- Python regex to find sequences of one upper case letter followed by lower case letters"
   ]
  },
  {
   "cell_type": "code",
   "execution_count": 22,
   "id": "2b6be284",
   "metadata": {},
   "outputs": [
    {
     "name": "stdout",
     "output_type": "stream",
     "text": [
      "['The', 'Quick', 'Brown', 'Fox', 'Jumps', 'Over', 'The', 'Lazy', 'Dog']\n"
     ]
    }
   ],
   "source": [
    "import re\n",
    "\n",
    "def find_sequences(text):\n",
    "    pattern = re.compile(r'[A-Z][a-z]+')\n",
    "    matches = pattern.findall(text)\n",
    "    return matches\n",
    "\n",
    "# Sample text\n",
    "sample_text = \"The Quick Brown Fox Jumps Over The Lazy Dog\"\n",
    "\n",
    "# Find sequences of one uppercase letter followed by lowercase letters\n",
    "result = find_sequences(sample_text)\n",
    "\n",
    "print(result)\n"
   ]
  },
  {
   "cell_type": "code",
   "execution_count": 63,
   "id": "2a30f4fe",
   "metadata": {},
   "outputs": [],
   "source": [
    "#Question 25- Write a Python program to remove continuous duplicate words from Sentence using Regular Expression.\n",
    "#Sample Text: \"Hello hello world world\"\n"
   ]
  },
  {
   "cell_type": "code",
   "execution_count": 23,
   "id": "e0c745cf",
   "metadata": {},
   "outputs": [
    {
     "name": "stdout",
     "output_type": "stream",
     "text": [
      "Hello world\n"
     ]
    }
   ],
   "source": [
    "import re\n",
    "\n",
    "def remove_continuous_duplicates(sentence):\n",
    "    # Define the regular expression pattern for continuous duplicate words\n",
    "    pattern = re.compile(r'\\b(\\w+)(?:\\s+\\1)+\\b', flags=re.IGNORECASE)\n",
    "\n",
    "    # Use sub to remove continuous duplicate words\n",
    "    result = pattern.sub(r'\\1', sentence)\n",
    "\n",
    "    return result\n",
    "\n",
    "sample_text = \"Hello hello world world\"\n",
    "\n",
    "# Apply the function to remove continuous duplicate words\n",
    "result = remove_continuous_duplicates(sample_text)\n",
    "print(result)\n"
   ]
  },
  {
   "cell_type": "code",
   "execution_count": 65,
   "id": "56ac7ff0",
   "metadata": {},
   "outputs": [],
   "source": [
    "#Question 26-  Write a python program using RegEx to accept string ending with alphanumeric character.\n"
   ]
  },
  {
   "cell_type": "code",
   "execution_count": 66,
   "id": "ec0bab96",
   "metadata": {},
   "outputs": [
    {
     "name": "stdout",
     "output_type": "stream",
     "text": [
      "Does \"Hello123\" end with an alphanumeric character? True\n",
      "Does \"World!\" end with an alphanumeric character? False\n",
      "Does \"Test123@\" end with an alphanumeric character? False\n"
     ]
    }
   ],
   "source": [
    "import re\n",
    "\n",
    "def ends_with_alphanumeric(text):\n",
    "    # Define the regular expression pattern for string ending with alphanumeric character\n",
    "    pattern = re.compile(r'\\w$')\n",
    "\n",
    "    # Use search to check if the string ends with an alphanumeric character\n",
    "    match = pattern.search(text)\n",
    "\n",
    "    return bool(match)\n",
    "\n",
    "# Sample strings\n",
    "sample_string1 = \"Hello123\"\n",
    "sample_string2 = \"World!\"\n",
    "sample_string3 = \"Test123@\"\n",
    "\n",
    "# Check if the strings end with an alphanumeric character\n",
    "result1 = ends_with_alphanumeric(sample_string1)\n",
    "result2 = ends_with_alphanumeric(sample_string2)\n",
    "result3 = ends_with_alphanumeric(sample_string3)\n",
    "\n",
    "# Display the results\n",
    "print(f'Does \"{sample_string1}\" end with an alphanumeric character? {result1}')\n",
    "print(f'Does \"{sample_string2}\" end with an alphanumeric character? {result2}')\n",
    "print(f'Does \"{sample_string3}\" end with an alphanumeric character? {result3}')\n"
   ]
  },
  {
   "cell_type": "code",
   "execution_count": 67,
   "id": "504ac2a1",
   "metadata": {},
   "outputs": [],
   "source": [
    "#Question 27-Write a python program using RegEx to extract the hashtags.\n",
    "#Sample Text:  \"\"\"RT @kapil_kausik: #Doltiwal I mean #xyzabc is \"hurt\" by #Demonetization as the same has rendered USELESS <ed><U+00A0><U+00BD><ed><U+00B1><U+0089> \"acquired funds\" No wo\"\"\"\n"
   ]
  },
  {
   "cell_type": "code",
   "execution_count": 24,
   "id": "c88aa2a7",
   "metadata": {},
   "outputs": [
    {
     "name": "stdout",
     "output_type": "stream",
     "text": [
      "['#Doltiwal', '#xyzabc', '#Demonetization']\n"
     ]
    }
   ],
   "source": [
    "import re\n",
    "\n",
    "def extract_hashtags(text):\n",
    "    # Define the regular expression pattern for extracting hashtags\n",
    "    pattern = re.compile(r'#\\w+')\n",
    "\n",
    "    # Use findall to extract all hashtags\n",
    "    hashtags = pattern.findall(text)\n",
    "\n",
    "    return hashtags\n",
    "\n",
    "# Sample text\n",
    "sample_text = \"\"\"RT @kapil_kausik: #Doltiwal I mean #xyzabc is \"hurt\" by #Demonetization as the same has rendered USELESS <ed><U+00A0><U+00BD><ed><U+00B1><U+0089> \"acquired funds\" No wo\"\"\"\n",
    "\n",
    "# Apply the function to extract hashtags\n",
    "result = extract_hashtags(sample_text)\n",
    "\n",
    "print(result)\n",
    "\n"
   ]
  },
  {
   "cell_type": "code",
   "execution_count": 69,
   "id": "d9e006ed",
   "metadata": {},
   "outputs": [],
   "source": [
    "#Question 28- Write a python program using RegEx to remove <U+..> like symbols\n",
    "#Check the below sample text, there are strange symbols something of the sort <U+..> all over the place. You need to come up with a general Regex expression that will cover all such symbols.\n",
    "#Sample Text: \"@Jags123456 Bharat band on 28??<ed><U+00A0><U+00BD><ed><U+00B8><U+0082>Those who  are protesting #demonetization  are all different party leaders\"\n"
   ]
  },
  {
   "cell_type": "code",
   "execution_count": 25,
   "id": "389f529a",
   "metadata": {},
   "outputs": [
    {
     "name": "stdout",
     "output_type": "stream",
     "text": [
      "@Jags123456 Bharat band on 28??<ed><ed>Those who are protesting #demonetization are all different party leaders\n"
     ]
    }
   ],
   "source": [
    "import re\n",
    "\n",
    "def remove_unicode_symbols(text):\n",
    "    # Define the regular expression pattern for matching <U+..> symbols\n",
    "    pattern = re.compile(r'<U\\+[0-9A-Fa-f]+>')\n",
    "\n",
    "    # Use sub to replace all occurrences with an empty string\n",
    "    result = pattern.sub('', text)\n",
    "\n",
    "    return result\n",
    "\n",
    "# Sample text\n",
    "sample_text = \"@Jags123456 Bharat band on 28??<ed><U+00A0><U+00BD><ed><U+00B8><U+0082>Those who are protesting #demonetization are all different party leaders\"\n",
    "\n",
    "result = remove_unicode_symbols(sample_text)\n",
    "\n",
    "print(result)\n"
   ]
  },
  {
   "cell_type": "code",
   "execution_count": 71,
   "id": "1c888a55",
   "metadata": {},
   "outputs": [],
   "source": [
    "#Question 29- Write a python program to extract dates from the text stored in the text file.\n",
    "#Sample Text: Ron was born on 12-09-1992 and he was admitted to school 15-12-1999.\n"
   ]
  },
  {
   "cell_type": "code",
   "execution_count": 72,
   "id": "e0ab8e5d",
   "metadata": {},
   "outputs": [
    {
     "name": "stdout",
     "output_type": "stream",
     "text": [
      "['12-09-1992', '15-12-1999']\n"
     ]
    }
   ],
   "source": [
    "import re\n",
    "\n",
    "def extract_dates_from_text(file_path):\n",
    "    # Read the content of the file\n",
    "    with open(file_path, 'r') as file:\n",
    "        content = file.read()\n",
    "\n",
    "    # Define the regular expression pattern for matching dates in DD-MM-YYYY format\n",
    "    pattern = re.compile(r'\\b\\d{2}-\\d{2}-\\d{4}\\b')\n",
    "\n",
    "    # Use findall to extract all dates\n",
    "    dates = pattern.findall(content)\n",
    "\n",
    "    return dates\n",
    "\n",
    "# Sample text file path\n",
    "file_path = 'sample_text.txt'\n",
    "\n",
    "# Write the sample text to the file\n",
    "sample_text = 'Ron was born on 12-09-1992 and he was admitted to school 15-12-1999.'\n",
    "with open(file_path, 'w') as file:\n",
    "    file.write(sample_text)\n",
    "\n",
    "# Extract dates from the file\n",
    "result = extract_dates_from_text(file_path)\n",
    "\n",
    "# Display the result\n",
    "print(result)\n"
   ]
  },
  {
   "cell_type": "code",
   "execution_count": 73,
   "id": "8b9a08a1",
   "metadata": {},
   "outputs": [],
   "source": [
    "#Question 30- Create a function in python to remove all words from a string of length between 2 and 4.\n",
    "#The use of the re.compile() method is mandatory.\n",
    "#Sample Text: \"The following example creates an ArrayList with a capacity of 50 elements. 4 elements are then added to the ArrayList and the ArrayList is trimmed accordingly.\"\n"
   ]
  },
  {
   "cell_type": "code",
   "execution_count": 26,
   "id": "07112411",
   "metadata": {},
   "outputs": [
    {
     "name": "stdout",
     "output_type": "stream",
     "text": [
      " following example creates  ArrayList  a capacity   elements. 4 elements   added   ArrayList   ArrayList  trimmed accordingly.\n"
     ]
    }
   ],
   "source": [
    "import re\n",
    "\n",
    "def remove_words_by_length(text):\n",
    "    # Define the regular expression pattern for matching words of length 2 to 4\n",
    "    pattern = re.compile(r'\\b\\w{2,4}\\b')\n",
    "\n",
    "    # Use sub to replace all occurrences with an empty string\n",
    "    result = pattern.sub('', text)\n",
    "\n",
    "    return result\n",
    "\n",
    "# Sample text\n",
    "sample_text = \"The following example creates an ArrayList with a capacity of 50 elements. 4 elements are then added to the ArrayList and the ArrayList is trimmed accordingly.\"\n",
    "\n",
    "# Apply the function to remove words of length 2 to 4\n",
    "result = remove_words_by_length(sample_text)\n",
    "\n",
    "print(result)\n"
   ]
  },
  {
   "cell_type": "code",
   "execution_count": null,
   "id": "86bf56f4",
   "metadata": {},
   "outputs": [],
   "source": []
  }
 ],
 "metadata": {
  "kernelspec": {
   "display_name": "Python 3 (ipykernel)",
   "language": "python",
   "name": "python3"
  },
  "language_info": {
   "codemirror_mode": {
    "name": "ipython",
    "version": 3
   },
   "file_extension": ".py",
   "mimetype": "text/x-python",
   "name": "python",
   "nbconvert_exporter": "python",
   "pygments_lexer": "ipython3",
   "version": "3.9.12"
  }
 },
 "nbformat": 4,
 "nbformat_minor": 5
}
